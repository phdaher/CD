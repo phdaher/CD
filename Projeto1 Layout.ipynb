{
 "cells": [
  {
   "cell_type": "markdown",
   "metadata": {},
   "source": [
    "___\n",
    "# Ciência dos Dados - PROJETO 1"
   ]
  },
  {
   "cell_type": "markdown",
   "metadata": {},
   "source": [
    "Pedro Henrique Carvalho Daher"
   ]
  },
  {
   "cell_type": "markdown",
   "metadata": {},
   "source": [
    "Descrever os domicílios brasileiros quanto ao acesso à Internet "
   ]
  },
  {
   "cell_type": "markdown",
   "metadata": {},
   "source": [
    "___\n",
    "## Introdução\n",
    "\n",
    "Pretendo analizar nesse projeto, um estudo entre os estados do centro-oeste do país. Fazzendo algumas comparaçoes. Exemplo: possuir telefone celular X ter acesso á internet, Renda pessoal X possuir telefone pessoal\n"
   ]
  },
  {
   "cell_type": "markdown",
   "metadata": {},
   "source": [
    "___\n",
    "## Análise e Resultados"
   ]
  },
  {
   "cell_type": "code",
   "execution_count": 1,
   "metadata": {
    "collapsed": true
   },
   "outputs": [],
   "source": [
    "%matplotlib inline\n",
    "import pandas as pd\n",
    "import matplotlib.pyplot as plt\n",
    "import numpy as np\n",
    "import os"
   ]
  },
  {
   "cell_type": "code",
   "execution_count": 2,
   "metadata": {},
   "outputs": [
    {
     "name": "stdout",
     "output_type": "stream",
     "text": [
      "Esperamos trabalhar no diretório\n",
      "C:\\Users\\Pedro Daher\\Downloads\n"
     ]
    }
   ],
   "source": [
    "print('Esperamos trabalhar no diretório')\n",
    "print(os.getcwd())"
   ]
  },
  {
   "cell_type": "code",
   "execution_count": 3,
   "metadata": {},
   "outputs": [
    {
     "data": {
      "text/html": [
       "<div>\n",
       "<style>\n",
       "    .dataframe thead tr:only-child th {\n",
       "        text-align: right;\n",
       "    }\n",
       "\n",
       "    .dataframe thead th {\n",
       "        text-align: left;\n",
       "    }\n",
       "\n",
       "    .dataframe tbody tr th {\n",
       "        vertical-align: top;\n",
       "    }\n",
       "</style>\n",
       "<table border=\"1\" class=\"dataframe\">\n",
       "  <thead>\n",
       "    <tr style=\"text-align: right;\">\n",
       "      <th></th>\n",
       "      <th>UF</th>\n",
       "      <th>Celular</th>\n",
       "      <th>NetComp</th>\n",
       "      <th>NetCasa</th>\n",
       "      <th>NetMovel</th>\n",
       "      <th>BandaLarga</th>\n",
       "      <th>FaixaRenda</th>\n",
       "      <th>Região</th>\n",
       "    </tr>\n",
       "  </thead>\n",
       "  <tbody>\n",
       "    <tr>\n",
       "      <th>134954</th>\n",
       "      <td>50</td>\n",
       "      <td>Sim</td>\n",
       "      <td>NaN</td>\n",
       "      <td>Não</td>\n",
       "      <td>NaN</td>\n",
       "      <td>NaN</td>\n",
       "      <td>1 até 2</td>\n",
       "      <td>Centro-Oeste</td>\n",
       "    </tr>\n",
       "    <tr>\n",
       "      <th>134955</th>\n",
       "      <td>50</td>\n",
       "      <td>NaN</td>\n",
       "      <td>NaN</td>\n",
       "      <td>NaN</td>\n",
       "      <td>NaN</td>\n",
       "      <td>NaN</td>\n",
       "      <td>NaN</td>\n",
       "      <td>Centro-Oeste</td>\n",
       "    </tr>\n",
       "    <tr>\n",
       "      <th>134956</th>\n",
       "      <td>50</td>\n",
       "      <td>Sim</td>\n",
       "      <td>NaN</td>\n",
       "      <td>Não</td>\n",
       "      <td>NaN</td>\n",
       "      <td>NaN</td>\n",
       "      <td>1 até 2</td>\n",
       "      <td>Centro-Oeste</td>\n",
       "    </tr>\n",
       "    <tr>\n",
       "      <th>134957</th>\n",
       "      <td>50</td>\n",
       "      <td>Sim</td>\n",
       "      <td>NaN</td>\n",
       "      <td>Não</td>\n",
       "      <td>NaN</td>\n",
       "      <td>NaN</td>\n",
       "      <td>1/2 até 1</td>\n",
       "      <td>Centro-Oeste</td>\n",
       "    </tr>\n",
       "    <tr>\n",
       "      <th>134958</th>\n",
       "      <td>50</td>\n",
       "      <td>Sim</td>\n",
       "      <td>NaN</td>\n",
       "      <td>Sim</td>\n",
       "      <td>Não</td>\n",
       "      <td>Sim</td>\n",
       "      <td>2 até 3</td>\n",
       "      <td>Centro-Oeste</td>\n",
       "    </tr>\n",
       "    <tr>\n",
       "      <th>134959</th>\n",
       "      <td>50</td>\n",
       "      <td>Sim</td>\n",
       "      <td>NaN</td>\n",
       "      <td>Não</td>\n",
       "      <td>NaN</td>\n",
       "      <td>NaN</td>\n",
       "      <td>1 até 2</td>\n",
       "      <td>Centro-Oeste</td>\n",
       "    </tr>\n",
       "    <tr>\n",
       "      <th>134960</th>\n",
       "      <td>50</td>\n",
       "      <td>Sim</td>\n",
       "      <td>NaN</td>\n",
       "      <td>Sim</td>\n",
       "      <td>Não</td>\n",
       "      <td>Sim</td>\n",
       "      <td>1/2 até 1</td>\n",
       "      <td>Centro-Oeste</td>\n",
       "    </tr>\n",
       "    <tr>\n",
       "      <th>134961</th>\n",
       "      <td>50</td>\n",
       "      <td>Sim</td>\n",
       "      <td>Sim</td>\n",
       "      <td>Sim</td>\n",
       "      <td>Não</td>\n",
       "      <td>Sim</td>\n",
       "      <td>1 até 2</td>\n",
       "      <td>Centro-Oeste</td>\n",
       "    </tr>\n",
       "    <tr>\n",
       "      <th>134962</th>\n",
       "      <td>50</td>\n",
       "      <td>Sim</td>\n",
       "      <td>NaN</td>\n",
       "      <td>Não</td>\n",
       "      <td>NaN</td>\n",
       "      <td>NaN</td>\n",
       "      <td>1/2 até 1</td>\n",
       "      <td>Centro-Oeste</td>\n",
       "    </tr>\n",
       "    <tr>\n",
       "      <th>134963</th>\n",
       "      <td>50</td>\n",
       "      <td>Sim</td>\n",
       "      <td>NaN</td>\n",
       "      <td>Não</td>\n",
       "      <td>NaN</td>\n",
       "      <td>NaN</td>\n",
       "      <td>1 até 2</td>\n",
       "      <td>Centro-Oeste</td>\n",
       "    </tr>\n",
       "    <tr>\n",
       "      <th>134964</th>\n",
       "      <td>50</td>\n",
       "      <td>Sim</td>\n",
       "      <td>NaN</td>\n",
       "      <td>Não</td>\n",
       "      <td>NaN</td>\n",
       "      <td>NaN</td>\n",
       "      <td>1 até 2</td>\n",
       "      <td>Centro-Oeste</td>\n",
       "    </tr>\n",
       "    <tr>\n",
       "      <th>134965</th>\n",
       "      <td>50</td>\n",
       "      <td>Sim</td>\n",
       "      <td>Não</td>\n",
       "      <td>Não</td>\n",
       "      <td>NaN</td>\n",
       "      <td>NaN</td>\n",
       "      <td>2 até 3</td>\n",
       "      <td>Centro-Oeste</td>\n",
       "    </tr>\n",
       "    <tr>\n",
       "      <th>134966</th>\n",
       "      <td>50</td>\n",
       "      <td>Sim</td>\n",
       "      <td>NaN</td>\n",
       "      <td>Não</td>\n",
       "      <td>NaN</td>\n",
       "      <td>NaN</td>\n",
       "      <td>1 até 2</td>\n",
       "      <td>Centro-Oeste</td>\n",
       "    </tr>\n",
       "    <tr>\n",
       "      <th>134967</th>\n",
       "      <td>50</td>\n",
       "      <td>Sim</td>\n",
       "      <td>NaN</td>\n",
       "      <td>Não</td>\n",
       "      <td>NaN</td>\n",
       "      <td>NaN</td>\n",
       "      <td>1/4 até 1/2</td>\n",
       "      <td>Centro-Oeste</td>\n",
       "    </tr>\n",
       "    <tr>\n",
       "      <th>134968</th>\n",
       "      <td>50</td>\n",
       "      <td>Sim</td>\n",
       "      <td>NaN</td>\n",
       "      <td>Não</td>\n",
       "      <td>NaN</td>\n",
       "      <td>NaN</td>\n",
       "      <td>1 até 2</td>\n",
       "      <td>Centro-Oeste</td>\n",
       "    </tr>\n",
       "    <tr>\n",
       "      <th>134969</th>\n",
       "      <td>50</td>\n",
       "      <td>Sim</td>\n",
       "      <td>NaN</td>\n",
       "      <td>Não</td>\n",
       "      <td>NaN</td>\n",
       "      <td>NaN</td>\n",
       "      <td>1/2 até 1</td>\n",
       "      <td>Centro-Oeste</td>\n",
       "    </tr>\n",
       "    <tr>\n",
       "      <th>134970</th>\n",
       "      <td>50</td>\n",
       "      <td>Sim</td>\n",
       "      <td>NaN</td>\n",
       "      <td>Não</td>\n",
       "      <td>NaN</td>\n",
       "      <td>NaN</td>\n",
       "      <td>1/2 até 1</td>\n",
       "      <td>Centro-Oeste</td>\n",
       "    </tr>\n",
       "    <tr>\n",
       "      <th>134971</th>\n",
       "      <td>50</td>\n",
       "      <td>Sim</td>\n",
       "      <td>Sim</td>\n",
       "      <td>Sim</td>\n",
       "      <td>Sim</td>\n",
       "      <td>Não</td>\n",
       "      <td>1/4</td>\n",
       "      <td>Centro-Oeste</td>\n",
       "    </tr>\n",
       "    <tr>\n",
       "      <th>134972</th>\n",
       "      <td>50</td>\n",
       "      <td>Sim</td>\n",
       "      <td>Sim</td>\n",
       "      <td>Sim</td>\n",
       "      <td>Sim</td>\n",
       "      <td>Não</td>\n",
       "      <td>1 até 2</td>\n",
       "      <td>Centro-Oeste</td>\n",
       "    </tr>\n",
       "    <tr>\n",
       "      <th>134973</th>\n",
       "      <td>50</td>\n",
       "      <td>Sim</td>\n",
       "      <td>Não</td>\n",
       "      <td>Sim</td>\n",
       "      <td>Sim</td>\n",
       "      <td>Não</td>\n",
       "      <td>3 até 5</td>\n",
       "      <td>Centro-Oeste</td>\n",
       "    </tr>\n",
       "    <tr>\n",
       "      <th>134974</th>\n",
       "      <td>50</td>\n",
       "      <td>Sim</td>\n",
       "      <td>NaN</td>\n",
       "      <td>Sim</td>\n",
       "      <td>Sim</td>\n",
       "      <td>Não</td>\n",
       "      <td>1/4 até 1/2</td>\n",
       "      <td>Centro-Oeste</td>\n",
       "    </tr>\n",
       "    <tr>\n",
       "      <th>134975</th>\n",
       "      <td>50</td>\n",
       "      <td>Sim</td>\n",
       "      <td>NaN</td>\n",
       "      <td>Sim</td>\n",
       "      <td>Sim</td>\n",
       "      <td>Não</td>\n",
       "      <td>1/4 até 1/2</td>\n",
       "      <td>Centro-Oeste</td>\n",
       "    </tr>\n",
       "    <tr>\n",
       "      <th>134976</th>\n",
       "      <td>50</td>\n",
       "      <td>NaN</td>\n",
       "      <td>NaN</td>\n",
       "      <td>NaN</td>\n",
       "      <td>NaN</td>\n",
       "      <td>NaN</td>\n",
       "      <td>NaN</td>\n",
       "      <td>Centro-Oeste</td>\n",
       "    </tr>\n",
       "    <tr>\n",
       "      <th>134977</th>\n",
       "      <td>50</td>\n",
       "      <td>Sim</td>\n",
       "      <td>NaN</td>\n",
       "      <td>Não</td>\n",
       "      <td>NaN</td>\n",
       "      <td>NaN</td>\n",
       "      <td>1/4</td>\n",
       "      <td>Centro-Oeste</td>\n",
       "    </tr>\n",
       "    <tr>\n",
       "      <th>134978</th>\n",
       "      <td>50</td>\n",
       "      <td>Sim</td>\n",
       "      <td>NaN</td>\n",
       "      <td>Não</td>\n",
       "      <td>NaN</td>\n",
       "      <td>NaN</td>\n",
       "      <td>1/2 até 1</td>\n",
       "      <td>Centro-Oeste</td>\n",
       "    </tr>\n",
       "    <tr>\n",
       "      <th>134979</th>\n",
       "      <td>50</td>\n",
       "      <td>Sim</td>\n",
       "      <td>NaN</td>\n",
       "      <td>Sim</td>\n",
       "      <td>Sim</td>\n",
       "      <td>Não</td>\n",
       "      <td>1/4 até 1/2</td>\n",
       "      <td>Centro-Oeste</td>\n",
       "    </tr>\n",
       "    <tr>\n",
       "      <th>134980</th>\n",
       "      <td>50</td>\n",
       "      <td>Sim</td>\n",
       "      <td>Sim</td>\n",
       "      <td>Sim</td>\n",
       "      <td>Não</td>\n",
       "      <td>Não</td>\n",
       "      <td>1/2 até 1</td>\n",
       "      <td>Centro-Oeste</td>\n",
       "    </tr>\n",
       "    <tr>\n",
       "      <th>134981</th>\n",
       "      <td>50</td>\n",
       "      <td>Sim</td>\n",
       "      <td>NaN</td>\n",
       "      <td>Sim</td>\n",
       "      <td>Sim</td>\n",
       "      <td>Não</td>\n",
       "      <td>1/2 até 1</td>\n",
       "      <td>Centro-Oeste</td>\n",
       "    </tr>\n",
       "    <tr>\n",
       "      <th>134982</th>\n",
       "      <td>50</td>\n",
       "      <td>Sim</td>\n",
       "      <td>NaN</td>\n",
       "      <td>Sim</td>\n",
       "      <td>Sim</td>\n",
       "      <td>Não</td>\n",
       "      <td>1/4 até 1/2</td>\n",
       "      <td>Centro-Oeste</td>\n",
       "    </tr>\n",
       "    <tr>\n",
       "      <th>134983</th>\n",
       "      <td>50</td>\n",
       "      <td>Sim</td>\n",
       "      <td>Sim</td>\n",
       "      <td>Sim</td>\n",
       "      <td>Sim</td>\n",
       "      <td>Não</td>\n",
       "      <td>1/4 até 1/2</td>\n",
       "      <td>Centro-Oeste</td>\n",
       "    </tr>\n",
       "    <tr>\n",
       "      <th>...</th>\n",
       "      <td>...</td>\n",
       "      <td>...</td>\n",
       "      <td>...</td>\n",
       "      <td>...</td>\n",
       "      <td>...</td>\n",
       "      <td>...</td>\n",
       "      <td>...</td>\n",
       "      <td>...</td>\n",
       "    </tr>\n",
       "    <tr>\n",
       "      <th>151159</th>\n",
       "      <td>53</td>\n",
       "      <td>Sim</td>\n",
       "      <td>Sim</td>\n",
       "      <td>Sim</td>\n",
       "      <td>Sim</td>\n",
       "      <td>Sim</td>\n",
       "      <td>Mais de 5</td>\n",
       "      <td>Centro-Oeste</td>\n",
       "    </tr>\n",
       "    <tr>\n",
       "      <th>151160</th>\n",
       "      <td>53</td>\n",
       "      <td>NaN</td>\n",
       "      <td>NaN</td>\n",
       "      <td>NaN</td>\n",
       "      <td>NaN</td>\n",
       "      <td>NaN</td>\n",
       "      <td>NaN</td>\n",
       "      <td>Centro-Oeste</td>\n",
       "    </tr>\n",
       "    <tr>\n",
       "      <th>151161</th>\n",
       "      <td>53</td>\n",
       "      <td>Sim</td>\n",
       "      <td>Sim</td>\n",
       "      <td>Sim</td>\n",
       "      <td>Não</td>\n",
       "      <td>Sim</td>\n",
       "      <td>Mais de 5</td>\n",
       "      <td>Centro-Oeste</td>\n",
       "    </tr>\n",
       "    <tr>\n",
       "      <th>151162</th>\n",
       "      <td>53</td>\n",
       "      <td>NaN</td>\n",
       "      <td>NaN</td>\n",
       "      <td>NaN</td>\n",
       "      <td>NaN</td>\n",
       "      <td>NaN</td>\n",
       "      <td>NaN</td>\n",
       "      <td>Centro-Oeste</td>\n",
       "    </tr>\n",
       "    <tr>\n",
       "      <th>151163</th>\n",
       "      <td>53</td>\n",
       "      <td>Sim</td>\n",
       "      <td>Sim</td>\n",
       "      <td>Sim</td>\n",
       "      <td>Sim</td>\n",
       "      <td>Sim</td>\n",
       "      <td>3 até 5</td>\n",
       "      <td>Centro-Oeste</td>\n",
       "    </tr>\n",
       "    <tr>\n",
       "      <th>151164</th>\n",
       "      <td>53</td>\n",
       "      <td>Sim</td>\n",
       "      <td>Sim</td>\n",
       "      <td>Sim</td>\n",
       "      <td>Sim</td>\n",
       "      <td>Sim</td>\n",
       "      <td>Mais de 5</td>\n",
       "      <td>Centro-Oeste</td>\n",
       "    </tr>\n",
       "    <tr>\n",
       "      <th>151165</th>\n",
       "      <td>53</td>\n",
       "      <td>Sim</td>\n",
       "      <td>Sim</td>\n",
       "      <td>Sim</td>\n",
       "      <td>Sim</td>\n",
       "      <td>Sim</td>\n",
       "      <td>Mais de 5</td>\n",
       "      <td>Centro-Oeste</td>\n",
       "    </tr>\n",
       "    <tr>\n",
       "      <th>151166</th>\n",
       "      <td>53</td>\n",
       "      <td>NaN</td>\n",
       "      <td>NaN</td>\n",
       "      <td>NaN</td>\n",
       "      <td>NaN</td>\n",
       "      <td>NaN</td>\n",
       "      <td>NaN</td>\n",
       "      <td>Centro-Oeste</td>\n",
       "    </tr>\n",
       "    <tr>\n",
       "      <th>151167</th>\n",
       "      <td>53</td>\n",
       "      <td>Sim</td>\n",
       "      <td>Sim</td>\n",
       "      <td>Sim</td>\n",
       "      <td>Sim</td>\n",
       "      <td>Sim</td>\n",
       "      <td>Mais de 5</td>\n",
       "      <td>Centro-Oeste</td>\n",
       "    </tr>\n",
       "    <tr>\n",
       "      <th>151168</th>\n",
       "      <td>53</td>\n",
       "      <td>Sim</td>\n",
       "      <td>Sim</td>\n",
       "      <td>Sim</td>\n",
       "      <td>Sim</td>\n",
       "      <td>Sim</td>\n",
       "      <td>Mais de 5</td>\n",
       "      <td>Centro-Oeste</td>\n",
       "    </tr>\n",
       "    <tr>\n",
       "      <th>151169</th>\n",
       "      <td>53</td>\n",
       "      <td>Sim</td>\n",
       "      <td>Sim</td>\n",
       "      <td>Sim</td>\n",
       "      <td>Sim</td>\n",
       "      <td>Sim</td>\n",
       "      <td>Mais de 5</td>\n",
       "      <td>Centro-Oeste</td>\n",
       "    </tr>\n",
       "    <tr>\n",
       "      <th>151170</th>\n",
       "      <td>53</td>\n",
       "      <td>Sim</td>\n",
       "      <td>Sim</td>\n",
       "      <td>Sim</td>\n",
       "      <td>Sim</td>\n",
       "      <td>Sim</td>\n",
       "      <td>Mais de 5</td>\n",
       "      <td>Centro-Oeste</td>\n",
       "    </tr>\n",
       "    <tr>\n",
       "      <th>151171</th>\n",
       "      <td>53</td>\n",
       "      <td>Sim</td>\n",
       "      <td>Sim</td>\n",
       "      <td>Sim</td>\n",
       "      <td>Sim</td>\n",
       "      <td>Sim</td>\n",
       "      <td>3 até 5</td>\n",
       "      <td>Centro-Oeste</td>\n",
       "    </tr>\n",
       "    <tr>\n",
       "      <th>151172</th>\n",
       "      <td>53</td>\n",
       "      <td>Sim</td>\n",
       "      <td>NaN</td>\n",
       "      <td>Não</td>\n",
       "      <td>NaN</td>\n",
       "      <td>NaN</td>\n",
       "      <td>1 até 2</td>\n",
       "      <td>Centro-Oeste</td>\n",
       "    </tr>\n",
       "    <tr>\n",
       "      <th>151173</th>\n",
       "      <td>53</td>\n",
       "      <td>Sim</td>\n",
       "      <td>NaN</td>\n",
       "      <td>Sim</td>\n",
       "      <td>Sim</td>\n",
       "      <td>Não</td>\n",
       "      <td>1/2 até 1</td>\n",
       "      <td>Centro-Oeste</td>\n",
       "    </tr>\n",
       "    <tr>\n",
       "      <th>151174</th>\n",
       "      <td>53</td>\n",
       "      <td>NaN</td>\n",
       "      <td>NaN</td>\n",
       "      <td>NaN</td>\n",
       "      <td>NaN</td>\n",
       "      <td>NaN</td>\n",
       "      <td>NaN</td>\n",
       "      <td>Centro-Oeste</td>\n",
       "    </tr>\n",
       "    <tr>\n",
       "      <th>151175</th>\n",
       "      <td>53</td>\n",
       "      <td>Sim</td>\n",
       "      <td>Sim</td>\n",
       "      <td>Sim</td>\n",
       "      <td>Sim</td>\n",
       "      <td>Sim</td>\n",
       "      <td>1/2 até 1</td>\n",
       "      <td>Centro-Oeste</td>\n",
       "    </tr>\n",
       "    <tr>\n",
       "      <th>151176</th>\n",
       "      <td>53</td>\n",
       "      <td>NaN</td>\n",
       "      <td>NaN</td>\n",
       "      <td>NaN</td>\n",
       "      <td>NaN</td>\n",
       "      <td>NaN</td>\n",
       "      <td>NaN</td>\n",
       "      <td>Centro-Oeste</td>\n",
       "    </tr>\n",
       "    <tr>\n",
       "      <th>151177</th>\n",
       "      <td>53</td>\n",
       "      <td>NaN</td>\n",
       "      <td>NaN</td>\n",
       "      <td>NaN</td>\n",
       "      <td>NaN</td>\n",
       "      <td>NaN</td>\n",
       "      <td>NaN</td>\n",
       "      <td>Centro-Oeste</td>\n",
       "    </tr>\n",
       "    <tr>\n",
       "      <th>151178</th>\n",
       "      <td>53</td>\n",
       "      <td>NaN</td>\n",
       "      <td>NaN</td>\n",
       "      <td>NaN</td>\n",
       "      <td>NaN</td>\n",
       "      <td>NaN</td>\n",
       "      <td>NaN</td>\n",
       "      <td>Centro-Oeste</td>\n",
       "    </tr>\n",
       "    <tr>\n",
       "      <th>151179</th>\n",
       "      <td>53</td>\n",
       "      <td>Sim</td>\n",
       "      <td>NaN</td>\n",
       "      <td>Não</td>\n",
       "      <td>NaN</td>\n",
       "      <td>NaN</td>\n",
       "      <td>1/4 até 1/2</td>\n",
       "      <td>Centro-Oeste</td>\n",
       "    </tr>\n",
       "    <tr>\n",
       "      <th>151180</th>\n",
       "      <td>53</td>\n",
       "      <td>Sim</td>\n",
       "      <td>NaN</td>\n",
       "      <td>Não</td>\n",
       "      <td>NaN</td>\n",
       "      <td>NaN</td>\n",
       "      <td>NãoDec</td>\n",
       "      <td>Centro-Oeste</td>\n",
       "    </tr>\n",
       "    <tr>\n",
       "      <th>151181</th>\n",
       "      <td>53</td>\n",
       "      <td>Sim</td>\n",
       "      <td>NaN</td>\n",
       "      <td>Não</td>\n",
       "      <td>NaN</td>\n",
       "      <td>NaN</td>\n",
       "      <td>1/4 até 1/2</td>\n",
       "      <td>Centro-Oeste</td>\n",
       "    </tr>\n",
       "    <tr>\n",
       "      <th>151182</th>\n",
       "      <td>53</td>\n",
       "      <td>Sim</td>\n",
       "      <td>Sim</td>\n",
       "      <td>Sim</td>\n",
       "      <td>Sim</td>\n",
       "      <td>Sim</td>\n",
       "      <td>1/2 até 1</td>\n",
       "      <td>Centro-Oeste</td>\n",
       "    </tr>\n",
       "    <tr>\n",
       "      <th>151183</th>\n",
       "      <td>53</td>\n",
       "      <td>NaN</td>\n",
       "      <td>NaN</td>\n",
       "      <td>NaN</td>\n",
       "      <td>NaN</td>\n",
       "      <td>NaN</td>\n",
       "      <td>NaN</td>\n",
       "      <td>Centro-Oeste</td>\n",
       "    </tr>\n",
       "    <tr>\n",
       "      <th>151184</th>\n",
       "      <td>53</td>\n",
       "      <td>Sim</td>\n",
       "      <td>NaN</td>\n",
       "      <td>Não</td>\n",
       "      <td>NaN</td>\n",
       "      <td>NaN</td>\n",
       "      <td>1/2 até 1</td>\n",
       "      <td>Centro-Oeste</td>\n",
       "    </tr>\n",
       "    <tr>\n",
       "      <th>151185</th>\n",
       "      <td>53</td>\n",
       "      <td>Sim</td>\n",
       "      <td>NaN</td>\n",
       "      <td>Não</td>\n",
       "      <td>NaN</td>\n",
       "      <td>NaN</td>\n",
       "      <td>1/4</td>\n",
       "      <td>Centro-Oeste</td>\n",
       "    </tr>\n",
       "    <tr>\n",
       "      <th>151186</th>\n",
       "      <td>53</td>\n",
       "      <td>Sim</td>\n",
       "      <td>NaN</td>\n",
       "      <td>Sim</td>\n",
       "      <td>Sim</td>\n",
       "      <td>Sim</td>\n",
       "      <td>1 até 2</td>\n",
       "      <td>Centro-Oeste</td>\n",
       "    </tr>\n",
       "    <tr>\n",
       "      <th>151187</th>\n",
       "      <td>53</td>\n",
       "      <td>Sim</td>\n",
       "      <td>NaN</td>\n",
       "      <td>Não</td>\n",
       "      <td>NaN</td>\n",
       "      <td>NaN</td>\n",
       "      <td>1/2 até 1</td>\n",
       "      <td>Centro-Oeste</td>\n",
       "    </tr>\n",
       "    <tr>\n",
       "      <th>151188</th>\n",
       "      <td>53</td>\n",
       "      <td>Sim</td>\n",
       "      <td>Sim</td>\n",
       "      <td>Sim</td>\n",
       "      <td>Sim</td>\n",
       "      <td>Sim</td>\n",
       "      <td>1/4 até 1/2</td>\n",
       "      <td>Centro-Oeste</td>\n",
       "    </tr>\n",
       "  </tbody>\n",
       "</table>\n",
       "<p>16235 rows × 8 columns</p>\n",
       "</div>"
      ],
      "text/plain": [
       "        UF Celular NetComp NetCasa NetMovel BandaLarga   FaixaRenda  \\\n",
       "134954  50     Sim     NaN     Não      NaN        NaN      1 até 2   \n",
       "134955  50     NaN     NaN     NaN      NaN        NaN          NaN   \n",
       "134956  50     Sim     NaN     Não      NaN        NaN      1 até 2   \n",
       "134957  50     Sim     NaN     Não      NaN        NaN    1/2 até 1   \n",
       "134958  50     Sim     NaN     Sim      Não        Sim      2 até 3   \n",
       "134959  50     Sim     NaN     Não      NaN        NaN      1 até 2   \n",
       "134960  50     Sim     NaN     Sim      Não        Sim    1/2 até 1   \n",
       "134961  50     Sim     Sim     Sim      Não        Sim      1 até 2   \n",
       "134962  50     Sim     NaN     Não      NaN        NaN    1/2 até 1   \n",
       "134963  50     Sim     NaN     Não      NaN        NaN      1 até 2   \n",
       "134964  50     Sim     NaN     Não      NaN        NaN      1 até 2   \n",
       "134965  50     Sim     Não     Não      NaN        NaN      2 até 3   \n",
       "134966  50     Sim     NaN     Não      NaN        NaN      1 até 2   \n",
       "134967  50     Sim     NaN     Não      NaN        NaN  1/4 até 1/2   \n",
       "134968  50     Sim     NaN     Não      NaN        NaN      1 até 2   \n",
       "134969  50     Sim     NaN     Não      NaN        NaN    1/2 até 1   \n",
       "134970  50     Sim     NaN     Não      NaN        NaN    1/2 até 1   \n",
       "134971  50     Sim     Sim     Sim      Sim        Não         1/4    \n",
       "134972  50     Sim     Sim     Sim      Sim        Não      1 até 2   \n",
       "134973  50     Sim     Não     Sim      Sim        Não      3 até 5   \n",
       "134974  50     Sim     NaN     Sim      Sim        Não  1/4 até 1/2   \n",
       "134975  50     Sim     NaN     Sim      Sim        Não  1/4 até 1/2   \n",
       "134976  50     NaN     NaN     NaN      NaN        NaN          NaN   \n",
       "134977  50     Sim     NaN     Não      NaN        NaN         1/4    \n",
       "134978  50     Sim     NaN     Não      NaN        NaN    1/2 até 1   \n",
       "134979  50     Sim     NaN     Sim      Sim        Não  1/4 até 1/2   \n",
       "134980  50     Sim     Sim     Sim      Não        Não    1/2 até 1   \n",
       "134981  50     Sim     NaN     Sim      Sim        Não    1/2 até 1   \n",
       "134982  50     Sim     NaN     Sim      Sim        Não  1/4 até 1/2   \n",
       "134983  50     Sim     Sim     Sim      Sim        Não  1/4 até 1/2   \n",
       "...     ..     ...     ...     ...      ...        ...          ...   \n",
       "151159  53     Sim     Sim     Sim      Sim        Sim    Mais de 5   \n",
       "151160  53     NaN     NaN     NaN      NaN        NaN          NaN   \n",
       "151161  53     Sim     Sim     Sim      Não        Sim    Mais de 5   \n",
       "151162  53     NaN     NaN     NaN      NaN        NaN          NaN   \n",
       "151163  53     Sim     Sim     Sim      Sim        Sim      3 até 5   \n",
       "151164  53     Sim     Sim     Sim      Sim        Sim    Mais de 5   \n",
       "151165  53     Sim     Sim     Sim      Sim        Sim    Mais de 5   \n",
       "151166  53     NaN     NaN     NaN      NaN        NaN          NaN   \n",
       "151167  53     Sim     Sim     Sim      Sim        Sim    Mais de 5   \n",
       "151168  53     Sim     Sim     Sim      Sim        Sim    Mais de 5   \n",
       "151169  53     Sim     Sim     Sim      Sim        Sim    Mais de 5   \n",
       "151170  53     Sim     Sim     Sim      Sim        Sim    Mais de 5   \n",
       "151171  53     Sim     Sim     Sim      Sim        Sim      3 até 5   \n",
       "151172  53     Sim     NaN     Não      NaN        NaN      1 até 2   \n",
       "151173  53     Sim     NaN     Sim      Sim        Não    1/2 até 1   \n",
       "151174  53     NaN     NaN     NaN      NaN        NaN          NaN   \n",
       "151175  53     Sim     Sim     Sim      Sim        Sim    1/2 até 1   \n",
       "151176  53     NaN     NaN     NaN      NaN        NaN          NaN   \n",
       "151177  53     NaN     NaN     NaN      NaN        NaN          NaN   \n",
       "151178  53     NaN     NaN     NaN      NaN        NaN          NaN   \n",
       "151179  53     Sim     NaN     Não      NaN        NaN  1/4 até 1/2   \n",
       "151180  53     Sim     NaN     Não      NaN        NaN       NãoDec   \n",
       "151181  53     Sim     NaN     Não      NaN        NaN  1/4 até 1/2   \n",
       "151182  53     Sim     Sim     Sim      Sim        Sim    1/2 até 1   \n",
       "151183  53     NaN     NaN     NaN      NaN        NaN          NaN   \n",
       "151184  53     Sim     NaN     Não      NaN        NaN    1/2 até 1   \n",
       "151185  53     Sim     NaN     Não      NaN        NaN         1/4    \n",
       "151186  53     Sim     NaN     Sim      Sim        Sim      1 até 2   \n",
       "151187  53     Sim     NaN     Não      NaN        NaN    1/2 até 1   \n",
       "151188  53     Sim     Sim     Sim      Sim        Sim  1/4 até 1/2   \n",
       "\n",
       "              Região  \n",
       "134954  Centro-Oeste  \n",
       "134955  Centro-Oeste  \n",
       "134956  Centro-Oeste  \n",
       "134957  Centro-Oeste  \n",
       "134958  Centro-Oeste  \n",
       "134959  Centro-Oeste  \n",
       "134960  Centro-Oeste  \n",
       "134961  Centro-Oeste  \n",
       "134962  Centro-Oeste  \n",
       "134963  Centro-Oeste  \n",
       "134964  Centro-Oeste  \n",
       "134965  Centro-Oeste  \n",
       "134966  Centro-Oeste  \n",
       "134967  Centro-Oeste  \n",
       "134968  Centro-Oeste  \n",
       "134969  Centro-Oeste  \n",
       "134970  Centro-Oeste  \n",
       "134971  Centro-Oeste  \n",
       "134972  Centro-Oeste  \n",
       "134973  Centro-Oeste  \n",
       "134974  Centro-Oeste  \n",
       "134975  Centro-Oeste  \n",
       "134976  Centro-Oeste  \n",
       "134977  Centro-Oeste  \n",
       "134978  Centro-Oeste  \n",
       "134979  Centro-Oeste  \n",
       "134980  Centro-Oeste  \n",
       "134981  Centro-Oeste  \n",
       "134982  Centro-Oeste  \n",
       "134983  Centro-Oeste  \n",
       "...              ...  \n",
       "151159  Centro-Oeste  \n",
       "151160  Centro-Oeste  \n",
       "151161  Centro-Oeste  \n",
       "151162  Centro-Oeste  \n",
       "151163  Centro-Oeste  \n",
       "151164  Centro-Oeste  \n",
       "151165  Centro-Oeste  \n",
       "151166  Centro-Oeste  \n",
       "151167  Centro-Oeste  \n",
       "151168  Centro-Oeste  \n",
       "151169  Centro-Oeste  \n",
       "151170  Centro-Oeste  \n",
       "151171  Centro-Oeste  \n",
       "151172  Centro-Oeste  \n",
       "151173  Centro-Oeste  \n",
       "151174  Centro-Oeste  \n",
       "151175  Centro-Oeste  \n",
       "151176  Centro-Oeste  \n",
       "151177  Centro-Oeste  \n",
       "151178  Centro-Oeste  \n",
       "151179  Centro-Oeste  \n",
       "151180  Centro-Oeste  \n",
       "151181  Centro-Oeste  \n",
       "151182  Centro-Oeste  \n",
       "151183  Centro-Oeste  \n",
       "151184  Centro-Oeste  \n",
       "151185  Centro-Oeste  \n",
       "151186  Centro-Oeste  \n",
       "151187  Centro-Oeste  \n",
       "151188  Centro-Oeste  \n",
       "\n",
       "[16235 rows x 8 columns]"
      ]
     },
     "execution_count": 3,
     "metadata": {},
     "output_type": "execute_result"
    }
   ],
   "source": [
    "#Se usar o arquivo descompactado\n",
    "tabela= pd.read_csv('DOM2015.csv',sep=',')\n",
    "cut=tabela.iloc[:,[2,28,47,49,55,57,78]]\n",
    "cut=cut[cut.UF>49]\n",
    "\n",
    "cut.loc[cut.UF>49, \"Região\"]=\"Centro-Oeste\"\n",
    "cut=cut.rename(columns={'V0220': 'Celular'})\n",
    "cut.Celular=cut.Celular.astype(\"category\")\n",
    "cut.Celular.cat.categories=('Sim','Não')\n",
    "\n",
    "#cut.UF=cut.UF.astype(\"category\")\n",
    "#cut.UF.cat.categories(['Rondonia', 'Acre', 'Amazonas', 'Roraima', 'Pará', 'Amapá', 'Tocantins', 'Maranhão', 'Piauí', 'Ceará', 'Rio Grande do Norte', 'Paraíba','Pernambuco', 'Alagoas', 'Sergipe', 'Bahia', 'Minas Gerais', 'Espírito Santo', 'Rio de Janeiro', 'São Paulo', 'Paraná', 'Santa Catarina', 'Rio Grande do Sul' 'Mato Grosso do Sul', 'Mato Grosso', 'Goiás',  'Distrito Federal'])\n",
    "\n",
    "\n",
    "cut=cut.rename(columns={'V0232': 'NetComp'})\n",
    "cut.NetComp=cut.NetComp.astype(\"category\")\n",
    "cut.NetComp.cat.categories=('Sim','Não')\n",
    "\n",
    "cut=cut.rename(columns={'V02322': 'NetCasa'})\n",
    "cut.NetCasa=cut.NetCasa.astype(\"category\")\n",
    "cut.NetCasa.cat.categories=('Sim','Não')\n",
    "\n",
    "cut=cut.rename(columns={'V02426': 'BandaLarga'})\n",
    "cut.BandaLarga=cut.BandaLarga.astype(\"category\")\n",
    "cut.BandaLarga.cat.categories=('Sim','Não')\n",
    "\n",
    "cut=cut.rename(columns={'V02424': 'NetMovel'})\n",
    "cut.NetMovel=cut.NetMovel.astype(\"category\")\n",
    "cut.NetMovel.cat.categories=('Sim','Não')\n",
    "\n",
    "cut=cut.rename(columns={'V4622': 'FaixaRenda'})\n",
    "cut.FaixaRenda=cut.FaixaRenda.astype(\"category\")\n",
    "cut.FaixaRenda.cat.categories=('SemRend','1/4 ','1/4 até 1/2','1/2 até 1','1 até 2','2 até 3','3 até 5', 'Mais de 5', 'NãoDec')\n",
    "#cut=cut.dropna()\n",
    "cut\n",
    "\n"
   ]
  },
  {
   "cell_type": "code",
   "execution_count": null,
   "metadata": {
    "collapsed": true
   },
   "outputs": [],
   "source": []
  },
  {
   "cell_type": "code",
   "execution_count": 4,
   "metadata": {},
   "outputs": [
    {
     "data": {
      "text/plain": [
       "<matplotlib.axes._subplots.AxesSubplot at 0x1b5381134e0>"
      ]
     },
     "execution_count": 4,
     "metadata": {},
     "output_type": "execute_result"
    },
    {
     "data": {
      "image/png": "[encoded data removed]",
      "text/plain": [
       "<matplotlib.figure.Figure at 0x1b5380edcf8>"
      ]
     },
     "metadata": {},
     "output_type": "display_data"
    }
   ],
   "source": [
    "dfc = cut.UF.value_counts()\n",
    "dfc.plot(kind='bar', color=('blue', 'red','yellow','green'), legend=False)\n"
   ]
  },
  {
   "cell_type": "code",
   "execution_count": 5,
   "metadata": {},
   "outputs": [
    {
     "data": {
      "text/plain": [
       "<matplotlib.axes._subplots.AxesSubplot at 0x1b53856acc0>"
      ]
     },
     "execution_count": 5,
     "metadata": {},
     "output_type": "execute_result"
    },
    {
     "data": {
      "image/png": "[encoded data removed]",
      "text/plain": [
       "<matplotlib.figure.Figure at 0x1b53858f9e8>"
      ]
     },
     "metadata": {},
     "output_type": "display_data"
    }
   ],
   "source": [
    "dfc.plot(kind='pie', legend=False)"
   ]
  },
  {
   "cell_type": "code",
   "execution_count": 6,
   "metadata": {},
   "outputs": [
    {
     "data": {
      "text/plain": [
       "<matplotlib.axes._subplots.AxesSubplot at 0x1b5385ed240>"
      ]
     },
     "execution_count": 6,
     "metadata": {},
     "output_type": "execute_result"
    },
    {
     "data": {
      "image/png": "[encoded data removed]",
      "text/plain": [
       "<matplotlib.figure.Figure at 0x1b5385fdba8>"
      ]
     },
     "metadata": {},
     "output_type": "display_data"
    }
   ],
   "source": [
    "dfc = cut.Celular.value_counts()\n",
    "dfc.plot(kind='bar', color=('blue', 'red'), legend=False)"
   ]
  },
  {
   "cell_type": "code",
   "execution_count": 7,
   "metadata": {},
   "outputs": [
    {
     "data": {
      "text/plain": [
       "<matplotlib.axes._subplots.AxesSubplot at 0x1b53868f978>"
      ]
     },
     "execution_count": 7,
     "metadata": {},
     "output_type": "execute_result"
    },
    {
     "data": {
      "image/png": "[encoded data removed]",
      "text/plain": [
       "<matplotlib.figure.Figure at 0x1b5386f61d0>"
      ]
     },
     "metadata": {},
     "output_type": "display_data"
    }
   ],
   "source": [
    "dfc = cut.FaixaRenda.value_counts()\n",
    "dfc.plot(kind='bar', color=('red', 'blue','green','yellow','salmon','black','pink','gray','purple'),legend=False)"
   ]
  },
  {
   "cell_type": "code",
   "execution_count": 8,
   "metadata": {},
   "outputs": [
    {
     "data": {
      "text/plain": [
       "<matplotlib.axes._subplots.AxesSubplot at 0x1b53879e898>"
      ]
     },
     "execution_count": 8,
     "metadata": {},
     "output_type": "execute_result"
    },
    {
     "data": {
      "image/png": "[encoded data removed]",
      "text/plain": [
       "<matplotlib.figure.Figure at 0x1b538734320>"
      ]
     },
     "metadata": {},
     "output_type": "display_data"
    }
   ],
   "source": [
    "ct1 = pd.crosstab(cut.Celular, cut.FaixaRenda)\n",
    "ct1.plot(kind='bar', color=('red', 'blue','green','yellow','salmon','black','pink','gray','purple'))\n",
    "\n"
   ]
  },
  {
   "cell_type": "code",
   "execution_count": 9,
   "metadata": {},
   "outputs": [
    {
     "data": {
      "text/plain": [
       "<matplotlib.axes._subplots.AxesSubplot at 0x1b5388c8f60>"
      ]
     },
     "execution_count": 9,
     "metadata": {},
     "output_type": "execute_result"
    },
    {
     "data": {
      "image/png": "[encoded data removed]",
      "text/plain": [
       "<matplotlib.figure.Figure at 0x1b538705400>"
      ]
     },
     "metadata": {},
     "output_type": "display_data"
    }
   ],
   "source": [
    "dfc = cut.Celular.value_counts()\n",
    "dfc.plot(kind='bar', color=('blue', 'red'), legend=False)"
   ]
  },
  {
   "cell_type": "code",
   "execution_count": 10,
   "metadata": {},
   "outputs": [
    {
     "data": {
      "text/plain": [
       "<matplotlib.axes._subplots.AxesSubplot at 0x1b5388ecfd0>"
      ]
     },
     "execution_count": 10,
     "metadata": {},
     "output_type": "execute_result"
    },
    {
     "data": {
      "image/png": "[encoded data removed]",
      "text/plain": [
       "<matplotlib.figure.Figure at 0x1b53892f4e0>"
      ]
     },
     "metadata": {},
     "output_type": "display_data"
    }
   ],
   "source": [
    "dfc = cut.NetMovel.value_counts()\n",
    "dfc.plot(kind='bar', color=('orange', 'purple'), legend=False)"
   ]
  },
  {
   "cell_type": "code",
   "execution_count": 11,
   "metadata": {},
   "outputs": [
    {
     "data": {
      "text/plain": [
       "<matplotlib.axes._subplots.AxesSubplot at 0x1b538b081d0>"
      ]
     },
     "execution_count": 11,
     "metadata": {},
     "output_type": "execute_result"
    },
    {
     "data": {
      "image/png": "[encoded data removed]",
      "text/plain": [
       "<matplotlib.figure.Figure at 0x1b538b6def0>"
      ]
     },
     "metadata": {},
     "output_type": "display_data"
    }
   ],
   "source": [
    "ct1 = pd.crosstab(cut.Celular, cut.NetMovel)\n",
    "ct1.plot(kind='bar', color=('red', 'blue','green','yellow'))\n"
   ]
  },
  {
   "cell_type": "code",
   "execution_count": 12,
   "metadata": {},
   "outputs": [
    {
     "data": {
      "text/plain": [
       "<matplotlib.axes._subplots.AxesSubplot at 0x1b5382d9390>"
      ]
     },
     "execution_count": 12,
     "metadata": {},
     "output_type": "execute_result"
    },
    {
     "data": {
      "image/png": "[encoded data removed]",
      "text/plain": [
       "<matplotlib.figure.Figure at 0x1b538b08668>"
      ]
     },
     "metadata": {},
     "output_type": "display_data"
    }
   ],
   "source": [
    "dfc = cut.NetMovel.value_counts()\n",
    "dfc.plot(kind='bar', color=('blue', 'red'), legend=False)"
   ]
  },
  {
   "cell_type": "code",
   "execution_count": 13,
   "metadata": {},
   "outputs": [
    {
     "data": {
      "text/plain": [
       "<matplotlib.axes._subplots.AxesSubplot at 0x1b538c605f8>"
      ]
     },
     "execution_count": 13,
     "metadata": {},
     "output_type": "execute_result"
    },
    {
     "data": {
      "image/png": "[encoded data removed]",
      "text/plain": [
       "<matplotlib.figure.Figure at 0x1b5387cab38>"
      ]
     },
     "metadata": {},
     "output_type": "display_data"
    }
   ],
   "source": [
    "dfc = cut.NetCasa.value_counts()\n",
    "dfc.plot(kind='bar', color=('blue', 'red'), legend=False)"
   ]
  },
  {
   "cell_type": "code",
   "execution_count": 14,
   "metadata": {},
   "outputs": [
    {
     "data": {
      "text/plain": [
       "<matplotlib.axes._subplots.AxesSubplot at 0x1b538cf9630>"
      ]
     },
     "execution_count": 14,
     "metadata": {},
     "output_type": "execute_result"
    },
    {
     "data": {
      "image/png": "[encoded data removed]",
      "text/plain": [
       "<matplotlib.figure.Figure at 0x1b538d4f9e8>"
      ]
     },
     "metadata": {},
     "output_type": "display_data"
    }
   ],
   "source": [
    "ct1 = pd.crosstab(cut.NetCasa, cut.NetMovel)\n",
    "ct1.plot(kind='bar', color=('red', 'blue','green','yellow'))"
   ]
  },
  {
   "cell_type": "code",
   "execution_count": 15,
   "metadata": {
    "collapsed": true
   },
   "outputs": [],
   "source": [
    "writer = pd.ExcelWriter('pandas_simple.xlsx', engine='xlsxwriter')\n",
    "cut.to_excel(writer, sheet_name='Projeto1')\n",
    "writer.save()"
   ]
  },
  {
   "cell_type": "markdown",
   "metadata": {},
   "source": [
    "___\n",
    "## Conclusão "
   ]
  },
  {
   "cell_type": "markdown",
   "metadata": {
    "collapsed": true
   },
   "source": [
    "Descreva aqui suas conclusões!"
   ]
  },
  {
   "cell_type": "code",
   "execution_count": null,
   "metadata": {
    "collapsed": true
   },
   "outputs": [],
   "source": []
  }
 ],
 "metadata": {
  "anaconda-cloud": {},
  "kernelspec": {
   "display_name": "Python 3",
   "language": "python",
   "name": "python3"
  },
  "language_info": {
   "codemirror_mode": {
    "name": "ipython",
    "version": 3
   },
   "file_extension": ".py",
   "mimetype": "text/x-python",
   "name": "python",
   "nbconvert_exporter": "python",
   "pygments_lexer": "ipython3",
   "version": "3.6.1"
  }
 },
 "nbformat": 4,
 "nbformat_minor": 1
}
